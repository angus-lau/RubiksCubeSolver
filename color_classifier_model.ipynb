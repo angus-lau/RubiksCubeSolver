{
 "cells": [
  {
   "cell_type": "code",
   "execution_count": 2,
   "id": "76246968-874c-4b60-af46-6dff0f15734d",
   "metadata": {},
   "outputs": [
    {
     "name": "stdout",
     "output_type": "stream",
     "text": [
      "Requirement already satisfied: scikit-learn in /opt/conda/lib/python3.12/site-packages (1.6.0)\n",
      "Requirement already satisfied: pandas in /opt/conda/lib/python3.12/site-packages (2.2.3)\n",
      "Requirement already satisfied: numpy in /opt/conda/lib/python3.12/site-packages (1.26.4)\n",
      "Collecting opencv-python\n",
      "  Using cached opencv_python-4.11.0.86-cp37-abi3-manylinux_2_17_x86_64.manylinux2014_x86_64.whl.metadata (20 kB)\n",
      "Requirement already satisfied: scipy>=1.6.0 in /opt/conda/lib/python3.12/site-packages (from scikit-learn) (1.14.1)\n",
      "Requirement already satisfied: joblib>=1.2.0 in /opt/conda/lib/python3.12/site-packages (from scikit-learn) (1.4.2)\n",
      "Requirement already satisfied: threadpoolctl>=3.1.0 in /opt/conda/lib/python3.12/site-packages (from scikit-learn) (3.5.0)\n",
      "Requirement already satisfied: python-dateutil>=2.8.2 in /opt/conda/lib/python3.12/site-packages (from pandas) (2.9.0.post0)\n",
      "Requirement already satisfied: pytz>=2020.1 in /opt/conda/lib/python3.12/site-packages (from pandas) (2024.1)\n",
      "Requirement already satisfied: tzdata>=2022.7 in /opt/conda/lib/python3.12/site-packages (from pandas) (2024.2)\n",
      "Requirement already satisfied: six>=1.5 in /opt/conda/lib/python3.12/site-packages (from python-dateutil>=2.8.2->pandas) (1.17.0)\n",
      "Using cached opencv_python-4.11.0.86-cp37-abi3-manylinux_2_17_x86_64.manylinux2014_x86_64.whl (63.0 MB)\n",
      "Installing collected packages: opencv-python\n",
      "Successfully installed opencv-python-4.11.0.86\n",
      "Note: you may need to restart the kernel to use updated packages.\n"
     ]
    }
   ],
   "source": [
    "pip install scikit-learn pandas numpy opencv-python"
   ]
  },
  {
   "cell_type": "code",
   "execution_count": 3,
   "id": "f51fff4e-ddda-4ab0-ad50-85d61cd33518",
   "metadata": {},
   "outputs": [],
   "source": [
    "import pandas as pd\n",
    "import numpy as np\n",
    "import cv2 as cv\n",
    "import csv\n",
    "import os\n",
    "import re\n",
    "from sklearn.dummy import DummyClassifier, DummyRegressor\n",
    "from sklearn.model_selection import cross_val_score, cross_validate, train_test_split\n",
    "from sklearn.model_selection import GridSearchCV\n",
    "from sklearn.ensemble import RandomForestClassifier\n",
    "from sklearn.metrics import ConfusionMatrixDisplay\n",
    "from sklearn.metrics import classification_report\n",
    "import joblib"
   ]
  },
  {
   "cell_type": "code",
   "execution_count": 5,
   "id": "7f16eb32-ab75-4c2e-b938-717f4dd44837",
   "metadata": {},
   "outputs": [],
   "source": [
    "filename = 'colors.csv'\n",
    "fields = []\n",
    "rows = []\n",
    "\n",
    "def generate_colors():\n",
    "    # RED (two hue regions)\n",
    "    for hue in list(range(0, 11, 2)) + list(range(170, 181, 2)):\n",
    "        for sat in range(150, 256, 20):\n",
    "            for val in range(150, 256, 20):\n",
    "                rows.append({'h': hue, 's': sat, 'v': val, 'target': 'Red'})\n",
    "    \n",
    "    # ORANGE\n",
    "    for hue in range(10, 26, 2):\n",
    "        for sat in range(140, 256, 20):\n",
    "            for val in range(140, 256, 20):\n",
    "                rows.append({'h': hue, 's': sat, 'v': val, 'target': 'Orange'})\n",
    "    \n",
    "    # YELLOW\n",
    "    for hue in range(25, 39, 2):\n",
    "        for sat in range(150, 256, 20):\n",
    "            for val in range(150, 256, 20):\n",
    "                rows.append({'h': hue, 's': sat, 'v': val, 'target': 'Yellow'})\n",
    "    \n",
    "    # GREEN\n",
    "    for hue in range(50, 86, 2):\n",
    "        for sat in range(100, 256, 20):\n",
    "            for val in range(100, 256, 20):\n",
    "                rows.append({'h': hue, 's': sat, 'v': val, 'target': 'Green'})\n",
    "    \n",
    "    # BLUE\n",
    "    for hue in range(100, 131, 2):\n",
    "        for sat in range(150, 256, 20):\n",
    "            for val in range(100, 256, 20):\n",
    "                rows.append({'h': hue, 's': sat, 'v': val, 'target': 'Blue'})\n",
    "    \n",
    "    # WHITE (low saturation, high brightness)\n",
    "    for hue in range(0, 181, 20):\n",
    "        for sat in range(0, 31, 10):\n",
    "            for val in range(200, 256, 10):\n",
    "                rows.append({'h': hue, 's': sat, 'v': val, 'target': 'White'})\n",
    "\n",
    "generate_colors()"
   ]
  },
  {
   "cell_type": "code",
   "execution_count": 6,
   "id": "4f70367b-1ad4-4333-a8f3-6b1c4a1ac1f7",
   "metadata": {},
   "outputs": [],
   "source": [
    "import os\n",
    "import cv2 as cv\n",
    "import numpy as np\n",
    "\n",
    "def extract_tile_hsv(image, row, col, grid_size=3, blur=True):\n",
    "    height, width = image.shape[:2]\n",
    "    cell_h = height // grid_size\n",
    "    cell_w = width // grid_size\n",
    "\n",
    "    x1 = col * cell_w\n",
    "    y1 = row * cell_h\n",
    "    x2 = x1 + cell_w\n",
    "    y2 = y1 + cell_h\n",
    "\n",
    "    tile = image[y1:y2, x1:x2]\n",
    "\n",
    "    if blur:\n",
    "        tile = cv.GaussianBlur(tile, (5, 5), 0)\n",
    "\n",
    "    hsv_tile = cv.cvtColor(tile, cv.COLOR_BGR2HSV)\n",
    "\n",
    "    mask = (hsv_tile[..., 1] > 50) & (hsv_tile[..., 2] > 50)\n",
    "    pixels = hsv_tile[mask]\n",
    "\n",
    "    if pixels.size > 0:\n",
    "        mean_hsv = np.mean(pixels, axis=0)\n",
    "    else:\n",
    "        mean_hsv = np.mean(hsv_tile.reshape(-1, 3), axis=0)\n",
    "\n",
    "    return mean_hsv.astype(np.uint8)\n",
    "\n",
    "\n",
    "def extract_face_tiles(image, label):\n",
    "    tiles = []\n",
    "    for row in range(3):\n",
    "        for col in range(3):\n",
    "            tile_hsv = extract_tile_hsv(image, row, col)\n",
    "            tiles.append({\n",
    "                'h': tile_hsv[0],\n",
    "                's': tile_hsv[1],\n",
    "                'v': tile_hsv[2],\n",
    "                'target': label\n",
    "            })\n",
    "    return tiles"
   ]
  },
  {
   "cell_type": "code",
   "execution_count": 10,
   "id": "86b3c824-42cb-4e0b-be87-cdaf3ded5532",
   "metadata": {},
   "outputs": [
    {
     "name": "stdout",
     "output_type": "stream",
     "text": [
      "Total samples: 162\n",
      "{'h': 14, 's': 83, 'v': 156, 'target': 'Red'}\n"
     ]
    }
   ],
   "source": [
    "folder_path = \"real_images\"\n",
    "all_tiles = []\n",
    "\n",
    "def get_label_from_filename(filename):\n",
    "    match = re.match(r\"([a-zA-Z]+)\", filename)\n",
    "    if match:\n",
    "        return match.group(1).capitalize()\n",
    "    return \"Unknown\"\n",
    "\n",
    "for filename in os.listdir(folder_path):\n",
    "    if filename.endswith(\".jpg\") or filename.endswith(\".png\"):\n",
    "        label = get_label_from_filename(filename)\n",
    "        image_path = os.path.join(folder_path, filename)\n",
    "        image = cv.imread(image_path)\n",
    "        if image is not None:\n",
    "            tiles = extract_face_tiles(image, label)\n",
    "            all_tiles.extend(tiles)\n",
    "    \n",
    "\n",
    "print(\"Total samples:\", len(all_tiles))\n",
    "print(all_tiles[0])"
   ]
  },
  {
   "cell_type": "code",
   "execution_count": 11,
   "id": "5d5b6fef-3be3-4561-bbd9-34621f104e2c",
   "metadata": {},
   "outputs": [],
   "source": [
    "with open ('colors.csv', 'a', newline ='') as csvfile:\n",
    "    fields = ['h','s','v','target']\n",
    "    writer = csv.DictWriter(csvfile, fieldnames=fields)\n",
    "    writer.writeheader()\n",
    "    writer.writerows(rows)\n",
    "    # writer.writerows(all_tiles)"
   ]
  },
  {
   "cell_type": "code",
   "execution_count": 17,
   "id": "48ebdf8d-0602-4c79-9aaa-06b6db0deaad",
   "metadata": {},
   "outputs": [
    {
     "name": "stdout",
     "output_type": "stream",
     "text": [
      "accuracy: 0.36\n",
      "RF Accuracy: 0.997907949790795\n"
     ]
    }
   ],
   "source": [
    "color_df = pd.read_csv('colors.csv')\n",
    "# Step 2: Remove rows where any of h/s/v are not numeric (like 'h')\n",
    "color_df = color_df[pd.to_numeric(color_df[\"h\"], errors=\"coerce\").notna()]\n",
    "color_df = color_df[pd.to_numeric(color_df[\"s\"], errors=\"coerce\").notna()]\n",
    "color_df = color_df[pd.to_numeric(color_df[\"v\"], errors=\"coerce\").notna()]\n",
    "\n",
    "# Step 3: Convert all columns to the correct data types\n",
    "color_df[\"h\"] = color_df[\"h\"].astype(int)\n",
    "color_df[\"s\"] = color_df[\"s\"].astype(int)\n",
    "color_df[\"v\"] = color_df[\"v\"].astype(int)\n",
    "\n",
    "# Step 4: Ready for training\n",
    "X = color_df[[\"h\", \"s\", \"v\"]]\n",
    "y = color_df[\"target\"]\n",
    "\n",
    "x_train, x_test, y_train, y_test = train_test_split(X, y, test_size=0.2, random_state=42)\n",
    "\n",
    "# baseline\n",
    "dummy = DummyClassifier(strategy='most_frequent')\n",
    "\n",
    "# hyperparamter optimization\n",
    "param_grid = {\n",
    "    'n_estimators': [50, 100, 150],\n",
    "    'max_depth': [None, 10, 20],\n",
    "    'min_samples_leaf': [1, 2, 4],\n",
    "}\n",
    "rf = RandomForestClassifier(max_depth=None, n_estimators=150, min_samples_leaf=1, random_state=123)\n",
    "# grid = GridSearchCV(rf, param_grid, cv=5, scoring='accuracy', n_jobs=-1)\n",
    "# grid.fit(x_train, y_train)\n",
    "# print(\"Best parameters:\", grid.best_params_)\n",
    "# print(\"Best accuracy:\", grid.best_score_)\n",
    "\n",
    "rf.fit(x_train, y_train)\n",
    "dummy.fit(x_train, y_train)\n",
    "acc = dummy.score(x_test, y_test)\n",
    "print(f'accuracy: {acc:.2f}')\n",
    "print(\"RF Accuracy:\", rf.score(x_test, y_test))"
   ]
  },
  {
   "cell_type": "code",
   "execution_count": 18,
   "id": "5b70879f-2b92-4f03-8ea7-6c05d7303928",
   "metadata": {},
   "outputs": [
    {
     "data": {
      "text/plain": [
       "['color_classifier.pkl']"
      ]
     },
     "execution_count": 18,
     "metadata": {},
     "output_type": "execute_result"
    }
   ],
   "source": [
    "joblib.dump(rf, 'color_classifier.pkl')"
   ]
  },
  {
   "cell_type": "code",
   "execution_count": 30,
   "id": "0a391efc-dcc9-4c07-9dd7-367537d36572",
   "metadata": {},
   "outputs": [
    {
     "name": "stdout",
     "output_type": "stream",
     "text": [
      "              precision    recall  f1-score   support\n",
      "\n",
      "        Blue       1.00      0.99      1.00       147\n",
      "       Green       1.00      1.00      1.00       226\n",
      "      Orange       0.97      0.99      0.98        68\n",
      "         Red       0.99      0.98      0.99       112\n",
      "       White       1.00      1.00      1.00        55\n",
      "      Yellow       1.00      1.00      1.00        51\n",
      "\n",
      "    accuracy                           0.99       659\n",
      "   macro avg       0.99      0.99      0.99       659\n",
      "weighted avg       0.99      0.99      0.99       659\n",
      "\n"
     ]
    },
    {
     "data": {
      "text/plain": [
       "<sklearn.metrics._plot.confusion_matrix.ConfusionMatrixDisplay at 0x7efa9fd314c0>"
      ]
     },
     "execution_count": 30,
     "metadata": {},
     "output_type": "execute_result"
    },
    {
     "data": {
      "image/png": "[encoded data removed]",
      "text/plain": [
       "<Figure size 640x480 with 2 Axes>"
      ]
     },
     "metadata": {},
     "output_type": "display_data"
    }
   ],
   "source": [
    "# f1, pred, recall, confusion matrix\n",
    "y_pred = rf.predict(x_test)\n",
    "print(classification_report(y_test, y_pred))\n",
    "ConfusionMatrixDisplay.from_predictions(y_test, y_pred)"
   ]
  },
  {
   "cell_type": "code",
   "execution_count": 36,
   "id": "67825630-5e48-4de6-8e3a-e1dce2bc53b9",
   "metadata": {},
   "outputs": [
    {
     "name": "stdout",
     "output_type": "stream",
     "text": [
      "pred: Red\n"
     ]
    },
    {
     "name": "stderr",
     "output_type": "stream",
     "text": [
      "/opt/conda/lib/python3.12/site-packages/sklearn/utils/validation.py:2739: UserWarning: X does not have valid feature names, but RandomForestClassifier was fitted with feature names\n",
      "  warnings.warn(\n"
     ]
    }
   ],
   "source": [
    "random = [[10, 75,95]]\n",
    "pred_color = rf.predict(random)\n",
    "print('pred:', pred_color[0])"
   ]
  },
  {
   "cell_type": "code",
   "execution_count": null,
   "id": "0fccb98a-1a82-4ca1-bf4f-07298ecae5c2",
   "metadata": {},
   "outputs": [],
   "source": []
  }
 ],
 "metadata": {
  "kernelspec": {
   "display_name": "Python 3 (ipykernel)",
   "language": "python",
   "name": "python3"
  },
  "language_info": {
   "codemirror_mode": {
    "name": "ipython",
    "version": 3
   },
   "file_extension": ".py",
   "mimetype": "text/x-python",
   "name": "python",
   "nbconvert_exporter": "python",
   "pygments_lexer": "ipython3",
   "version": "3.12.8"
  }
 },
 "nbformat": 4,
 "nbformat_minor": 5
}
